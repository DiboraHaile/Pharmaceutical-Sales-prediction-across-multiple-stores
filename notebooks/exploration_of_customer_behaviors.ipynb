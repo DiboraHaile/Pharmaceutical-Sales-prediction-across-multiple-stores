{
 "cells": [
  {
   "cell_type": "code",
   "execution_count": 1,
   "source": [
    "import pandas as pd\n",
    "import sys  \n",
    "sys.path.insert(0, '../scripts')\n",
    "import seaborn as sn\n",
    "import matplotlib.pyplot as plt\n",
    "import numpy as np\n",
    "from scipy.stats import spearmanr\n",
    "import clean_data\n",
    "import loading_data\n",
    "import utilities\n",
    "from sklearn.neighbors import LocalOutlierFactor\n",
    "import visualize\n",
    "import datetime\n",
    "from datetime import timedelta  \n"
   ],
   "outputs": [],
   "metadata": {}
  },
  {
   "cell_type": "code",
   "execution_count": 2,
   "source": [
    "# load data\n",
    "df_store = loading_data.load_csv('../data/store.csv')\n",
    "df_train = loading_data.load_csv('../data/train.csv')\n",
    "df_test = loading_data.load_csv('../data/test.csv')\n",
    "df_submission = loading_data.load_csv('../data/sample_submission.csv')"
   ],
   "outputs": [
    {
     "output_type": "stream",
     "name": "stderr",
     "text": [
      "/home/dibora/Pharmaceutical-Sales-prediction-across-multiple-stores/pharmaceutical/lib/python3.7/site-packages/ipykernel_launcher.py:2: FutureWarning: The error_bad_lines argument has been deprecated and will be removed in a future version.\n",
      "\n",
      "\n",
      "  \n",
      "/home/dibora/Pharmaceutical-Sales-prediction-across-multiple-stores/pharmaceutical/lib/python3.7/site-packages/ipykernel_launcher.py:3: FutureWarning: The error_bad_lines argument has been deprecated and will be removed in a future version.\n",
      "\n",
      "\n",
      "  This is separate from the ipykernel package so we can avoid doing imports until\n",
      "/home/dibora/Pharmaceutical-Sales-prediction-across-multiple-stores/pharmaceutical/lib/python3.7/site-packages/ipykernel_launcher.py:4: FutureWarning: The error_bad_lines argument has been deprecated and will be removed in a future version.\n",
      "\n",
      "\n",
      "  after removing the cwd from sys.path.\n",
      "/home/dibora/Pharmaceutical-Sales-prediction-across-multiple-stores/pharmaceutical/lib/python3.7/site-packages/ipykernel_launcher.py:5: FutureWarning: The error_bad_lines argument has been deprecated and will be removed in a future version.\n",
      "\n",
      "\n",
      "  \"\"\"\n"
     ]
    }
   ],
   "metadata": {}
  },
  {
   "cell_type": "code",
   "execution_count": 3,
   "source": [
    "df_store.head(5),df_store.nunique()\n"
   ],
   "outputs": [
    {
     "output_type": "execute_result",
     "data": {
      "text/plain": [
       "(   Store StoreType Assortment  CompetitionDistance  CompetitionOpenSinceMonth  \\\n",
       " 0      1         c          a             1,270.00                       9.00   \n",
       " 1      2         a          a               570.00                      11.00   \n",
       " 2      3         a          a            14,130.00                      12.00   \n",
       " 3      4         c          c               620.00                       9.00   \n",
       " 4      5         a          a            29,910.00                       4.00   \n",
       " \n",
       "    CompetitionOpenSinceYear  Promo2  Promo2SinceWeek  Promo2SinceYear  \\\n",
       " 0                  2,008.00       0              NaN              NaN   \n",
       " 1                  2,007.00       1            13.00         2,010.00   \n",
       " 2                  2,006.00       1            14.00         2,011.00   \n",
       " 3                  2,009.00       0              NaN              NaN   \n",
       " 4                  2,015.00       0              NaN              NaN   \n",
       " \n",
       "      PromoInterval  \n",
       " 0              NaN  \n",
       " 1  Jan,Apr,Jul,Oct  \n",
       " 2  Jan,Apr,Jul,Oct  \n",
       " 3              NaN  \n",
       " 4              NaN  ,\n",
       " Store                        1115\n",
       " StoreType                       4\n",
       " Assortment                      3\n",
       " CompetitionDistance           654\n",
       " CompetitionOpenSinceMonth      12\n",
       " CompetitionOpenSinceYear       23\n",
       " Promo2                          2\n",
       " Promo2SinceWeek                24\n",
       " Promo2SinceYear                 7\n",
       " PromoInterval                   3\n",
       " dtype: int64)"
      ]
     },
     "metadata": {},
     "execution_count": 3
    }
   ],
   "metadata": {}
  },
  {
   "cell_type": "code",
   "execution_count": 4,
   "source": [
    "df_store.info()"
   ],
   "outputs": [
    {
     "output_type": "stream",
     "name": "stdout",
     "text": [
      "<class 'pandas.core.frame.DataFrame'>\n",
      "RangeIndex: 1115 entries, 0 to 1114\n",
      "Data columns (total 10 columns):\n",
      " #   Column                     Non-Null Count  Dtype  \n",
      "---  ------                     --------------  -----  \n",
      " 0   Store                      1115 non-null   int64  \n",
      " 1   StoreType                  1115 non-null   object \n",
      " 2   Assortment                 1115 non-null   object \n",
      " 3   CompetitionDistance        1112 non-null   float64\n",
      " 4   CompetitionOpenSinceMonth  761 non-null    float64\n",
      " 5   CompetitionOpenSinceYear   761 non-null    float64\n",
      " 6   Promo2                     1115 non-null   int64  \n",
      " 7   Promo2SinceWeek            571 non-null    float64\n",
      " 8   Promo2SinceYear            571 non-null    float64\n",
      " 9   PromoInterval              571 non-null    object \n",
      "dtypes: float64(5), int64(2), object(3)\n",
      "memory usage: 87.2+ KB\n"
     ]
    }
   ],
   "metadata": {}
  },
  {
   "cell_type": "markdown",
   "source": [
    "### Store data\n",
    "The store data gives us additional information about the stores, we can see from the data that we have 1115 stores which are of 4 types, and we also include columns with additional information for each stores, like Store type,Assortment,CompetitionDistance,CompetitionOpenSinceMonth,CompetitionOpenSinceYear,Promo2SinceWeek ,Promo2SinceYear,PromoInterval"
   ],
   "metadata": {}
  },
  {
   "cell_type": "code",
   "execution_count": 5,
   "source": [
    "df_train.head(), df_train.nunique()"
   ],
   "outputs": [
    {
     "output_type": "execute_result",
     "data": {
      "text/plain": [
       "(   Store  DayOfWeek        Date  Sales  Customers  Open  Promo StateHoliday  \\\n",
       " 0      1          5  2015-07-31   5263        555     1      1            0   \n",
       " 1      2          5  2015-07-31   6064        625     1      1            0   \n",
       " 2      3          5  2015-07-31   8314        821     1      1            0   \n",
       " 3      4          5  2015-07-31  13995       1498     1      1            0   \n",
       " 4      5          5  2015-07-31   4822        559     1      1            0   \n",
       " \n",
       "    SchoolHoliday  \n",
       " 0              1  \n",
       " 1              1  \n",
       " 2              1  \n",
       " 3              1  \n",
       " 4              1  ,\n",
       " Store             1115\n",
       " DayOfWeek            7\n",
       " Date               942\n",
       " Sales            21734\n",
       " Customers         4086\n",
       " Open                 2\n",
       " Promo                2\n",
       " StateHoliday         4\n",
       " SchoolHoliday        2\n",
       " dtype: int64)"
      ]
     },
     "metadata": {},
     "execution_count": 5
    }
   ],
   "metadata": {}
  },
  {
   "cell_type": "markdown",
   "source": [
    "Store data contains 1115 rows by 10 columns, we can see there are missing values from the data. "
   ],
   "metadata": {}
  },
  {
   "cell_type": "code",
   "execution_count": 6,
   "source": [
    "df_train.info()"
   ],
   "outputs": [
    {
     "output_type": "stream",
     "name": "stdout",
     "text": [
      "<class 'pandas.core.frame.DataFrame'>\n",
      "RangeIndex: 1017209 entries, 0 to 1017208\n",
      "Data columns (total 9 columns):\n",
      " #   Column         Non-Null Count    Dtype \n",
      "---  ------         --------------    ----- \n",
      " 0   Store          1017209 non-null  int64 \n",
      " 1   DayOfWeek      1017209 non-null  int64 \n",
      " 2   Date           1017209 non-null  object\n",
      " 3   Sales          1017209 non-null  int64 \n",
      " 4   Customers      1017209 non-null  int64 \n",
      " 5   Open           1017209 non-null  int64 \n",
      " 6   Promo          1017209 non-null  int64 \n",
      " 7   StateHoliday   1017209 non-null  object\n",
      " 8   SchoolHoliday  1017209 non-null  int64 \n",
      "dtypes: int64(7), object(2)\n",
      "memory usage: 69.8+ MB\n"
     ]
    }
   ],
   "metadata": {}
  },
  {
   "cell_type": "code",
   "execution_count": 7,
   "source": [
    "df_test.info()"
   ],
   "outputs": [
    {
     "output_type": "stream",
     "name": "stdout",
     "text": [
      "<class 'pandas.core.frame.DataFrame'>\n",
      "RangeIndex: 41088 entries, 0 to 41087\n",
      "Data columns (total 8 columns):\n",
      " #   Column         Non-Null Count  Dtype  \n",
      "---  ------         --------------  -----  \n",
      " 0   Id             41088 non-null  int64  \n",
      " 1   Store          41088 non-null  int64  \n",
      " 2   DayOfWeek      41088 non-null  int64  \n",
      " 3   Date           41088 non-null  object \n",
      " 4   Open           41077 non-null  float64\n",
      " 5   Promo          41088 non-null  int64  \n",
      " 6   StateHoliday   41088 non-null  object \n",
      " 7   SchoolHoliday  41088 non-null  int64  \n",
      "dtypes: float64(1), int64(5), object(2)\n",
      "memory usage: 2.5+ MB\n"
     ]
    }
   ],
   "metadata": {}
  },
  {
   "cell_type": "code",
   "execution_count": 8,
   "source": [
    "# questions you have to ask what store data is and what it represents\n",
    "# how to choose the best methods for cleaning missing data and outliers\n"
   ],
   "outputs": [],
   "metadata": {}
  },
  {
   "cell_type": "markdown",
   "source": [
    "## clean Data"
   ],
   "metadata": {}
  },
  {
   "cell_type": "code",
   "execution_count": 9,
   "source": [
    "# convert date columns to datetime format\n",
    "df_train = utilities.format_datetime(df_train,\"Date\")\n",
    "# df_store[\"CompetitionOpenSinceMonth\"] = df_store[\"CompetitionOpenSinceMonth\"].to_string()\n",
    "# df_store[\"CompetitionOpenSinceYear\"] = df_store[\"CompetitionOpenSinceYear\"].to_string()\n",
    "df_store.head(10)"
   ],
   "outputs": [
    {
     "output_type": "execute_result",
     "data": {
      "text/plain": [
       "   Store StoreType Assortment  CompetitionDistance  CompetitionOpenSinceMonth  \\\n",
       "0      1         c          a             1,270.00                       9.00   \n",
       "1      2         a          a               570.00                      11.00   \n",
       "2      3         a          a            14,130.00                      12.00   \n",
       "3      4         c          c               620.00                       9.00   \n",
       "4      5         a          a            29,910.00                       4.00   \n",
       "5      6         a          a               310.00                      12.00   \n",
       "6      7         a          c            24,000.00                       4.00   \n",
       "7      8         a          a             7,520.00                      10.00   \n",
       "8      9         a          c             2,030.00                       8.00   \n",
       "9     10         a          a             3,160.00                       9.00   \n",
       "\n",
       "   CompetitionOpenSinceYear  Promo2  Promo2SinceWeek  Promo2SinceYear  \\\n",
       "0                  2,008.00       0              NaN              NaN   \n",
       "1                  2,007.00       1            13.00         2,010.00   \n",
       "2                  2,006.00       1            14.00         2,011.00   \n",
       "3                  2,009.00       0              NaN              NaN   \n",
       "4                  2,015.00       0              NaN              NaN   \n",
       "5                  2,013.00       0              NaN              NaN   \n",
       "6                  2,013.00       0              NaN              NaN   \n",
       "7                  2,014.00       0              NaN              NaN   \n",
       "8                  2,000.00       0              NaN              NaN   \n",
       "9                  2,009.00       0              NaN              NaN   \n",
       "\n",
       "     PromoInterval  \n",
       "0              NaN  \n",
       "1  Jan,Apr,Jul,Oct  \n",
       "2  Jan,Apr,Jul,Oct  \n",
       "3              NaN  \n",
       "4              NaN  \n",
       "5              NaN  \n",
       "6              NaN  \n",
       "7              NaN  \n",
       "8              NaN  \n",
       "9              NaN  "
      ],
      "text/html": [
       "<div>\n",
       "<style scoped>\n",
       "    .dataframe tbody tr th:only-of-type {\n",
       "        vertical-align: middle;\n",
       "    }\n",
       "\n",
       "    .dataframe tbody tr th {\n",
       "        vertical-align: top;\n",
       "    }\n",
       "\n",
       "    .dataframe thead th {\n",
       "        text-align: right;\n",
       "    }\n",
       "</style>\n",
       "<table border=\"1\" class=\"dataframe\">\n",
       "  <thead>\n",
       "    <tr style=\"text-align: right;\">\n",
       "      <th></th>\n",
       "      <th>Store</th>\n",
       "      <th>StoreType</th>\n",
       "      <th>Assortment</th>\n",
       "      <th>CompetitionDistance</th>\n",
       "      <th>CompetitionOpenSinceMonth</th>\n",
       "      <th>CompetitionOpenSinceYear</th>\n",
       "      <th>Promo2</th>\n",
       "      <th>Promo2SinceWeek</th>\n",
       "      <th>Promo2SinceYear</th>\n",
       "      <th>PromoInterval</th>\n",
       "    </tr>\n",
       "  </thead>\n",
       "  <tbody>\n",
       "    <tr>\n",
       "      <th>0</th>\n",
       "      <td>1</td>\n",
       "      <td>c</td>\n",
       "      <td>a</td>\n",
       "      <td>1,270.00</td>\n",
       "      <td>9.00</td>\n",
       "      <td>2,008.00</td>\n",
       "      <td>0</td>\n",
       "      <td>NaN</td>\n",
       "      <td>NaN</td>\n",
       "      <td>NaN</td>\n",
       "    </tr>\n",
       "    <tr>\n",
       "      <th>1</th>\n",
       "      <td>2</td>\n",
       "      <td>a</td>\n",
       "      <td>a</td>\n",
       "      <td>570.00</td>\n",
       "      <td>11.00</td>\n",
       "      <td>2,007.00</td>\n",
       "      <td>1</td>\n",
       "      <td>13.00</td>\n",
       "      <td>2,010.00</td>\n",
       "      <td>Jan,Apr,Jul,Oct</td>\n",
       "    </tr>\n",
       "    <tr>\n",
       "      <th>2</th>\n",
       "      <td>3</td>\n",
       "      <td>a</td>\n",
       "      <td>a</td>\n",
       "      <td>14,130.00</td>\n",
       "      <td>12.00</td>\n",
       "      <td>2,006.00</td>\n",
       "      <td>1</td>\n",
       "      <td>14.00</td>\n",
       "      <td>2,011.00</td>\n",
       "      <td>Jan,Apr,Jul,Oct</td>\n",
       "    </tr>\n",
       "    <tr>\n",
       "      <th>3</th>\n",
       "      <td>4</td>\n",
       "      <td>c</td>\n",
       "      <td>c</td>\n",
       "      <td>620.00</td>\n",
       "      <td>9.00</td>\n",
       "      <td>2,009.00</td>\n",
       "      <td>0</td>\n",
       "      <td>NaN</td>\n",
       "      <td>NaN</td>\n",
       "      <td>NaN</td>\n",
       "    </tr>\n",
       "    <tr>\n",
       "      <th>4</th>\n",
       "      <td>5</td>\n",
       "      <td>a</td>\n",
       "      <td>a</td>\n",
       "      <td>29,910.00</td>\n",
       "      <td>4.00</td>\n",
       "      <td>2,015.00</td>\n",
       "      <td>0</td>\n",
       "      <td>NaN</td>\n",
       "      <td>NaN</td>\n",
       "      <td>NaN</td>\n",
       "    </tr>\n",
       "    <tr>\n",
       "      <th>5</th>\n",
       "      <td>6</td>\n",
       "      <td>a</td>\n",
       "      <td>a</td>\n",
       "      <td>310.00</td>\n",
       "      <td>12.00</td>\n",
       "      <td>2,013.00</td>\n",
       "      <td>0</td>\n",
       "      <td>NaN</td>\n",
       "      <td>NaN</td>\n",
       "      <td>NaN</td>\n",
       "    </tr>\n",
       "    <tr>\n",
       "      <th>6</th>\n",
       "      <td>7</td>\n",
       "      <td>a</td>\n",
       "      <td>c</td>\n",
       "      <td>24,000.00</td>\n",
       "      <td>4.00</td>\n",
       "      <td>2,013.00</td>\n",
       "      <td>0</td>\n",
       "      <td>NaN</td>\n",
       "      <td>NaN</td>\n",
       "      <td>NaN</td>\n",
       "    </tr>\n",
       "    <tr>\n",
       "      <th>7</th>\n",
       "      <td>8</td>\n",
       "      <td>a</td>\n",
       "      <td>a</td>\n",
       "      <td>7,520.00</td>\n",
       "      <td>10.00</td>\n",
       "      <td>2,014.00</td>\n",
       "      <td>0</td>\n",
       "      <td>NaN</td>\n",
       "      <td>NaN</td>\n",
       "      <td>NaN</td>\n",
       "    </tr>\n",
       "    <tr>\n",
       "      <th>8</th>\n",
       "      <td>9</td>\n",
       "      <td>a</td>\n",
       "      <td>c</td>\n",
       "      <td>2,030.00</td>\n",
       "      <td>8.00</td>\n",
       "      <td>2,000.00</td>\n",
       "      <td>0</td>\n",
       "      <td>NaN</td>\n",
       "      <td>NaN</td>\n",
       "      <td>NaN</td>\n",
       "    </tr>\n",
       "    <tr>\n",
       "      <th>9</th>\n",
       "      <td>10</td>\n",
       "      <td>a</td>\n",
       "      <td>a</td>\n",
       "      <td>3,160.00</td>\n",
       "      <td>9.00</td>\n",
       "      <td>2,009.00</td>\n",
       "      <td>0</td>\n",
       "      <td>NaN</td>\n",
       "      <td>NaN</td>\n",
       "      <td>NaN</td>\n",
       "    </tr>\n",
       "  </tbody>\n",
       "</table>\n",
       "</div>"
      ]
     },
     "metadata": {},
     "execution_count": 9
    }
   ],
   "metadata": {}
  },
  {
   "cell_type": "code",
   "execution_count": 10,
   "source": [
    "# cleaning missing values by just dropping them, do more analysis later\n",
    "# our train data doesn't have any missing values\n",
    "cleaned_store = clean_data.Handle_missing_values(df_store,drop_cols=False,drop_rows=False)\n",
    "cleaned_test = clean_data.Handle_missing_values(df_test,drop_cols=False,drop_rows=False)\n",
    "cleaned_store.info(), cleaned_test.info()"
   ],
   "outputs": [
    {
     "output_type": "stream",
     "name": "stdout",
     "text": [
      "['StoreType', 'Assortment', 'PromoInterval']\n",
      "['Date', 'StateHoliday']\n",
      "<class 'pandas.core.frame.DataFrame'>\n",
      "RangeIndex: 1115 entries, 0 to 1114\n",
      "Data columns (total 10 columns):\n",
      " #   Column                     Non-Null Count  Dtype  \n",
      "---  ------                     --------------  -----  \n",
      " 0   Store                      1115 non-null   int64  \n",
      " 1   StoreType                  1115 non-null   object \n",
      " 2   Assortment                 1115 non-null   object \n",
      " 3   CompetitionDistance        1115 non-null   float64\n",
      " 4   CompetitionOpenSinceMonth  1115 non-null   float64\n",
      " 5   CompetitionOpenSinceYear   1115 non-null   float64\n",
      " 6   Promo2                     1115 non-null   int64  \n",
      " 7   Promo2SinceWeek            1115 non-null   float64\n",
      " 8   Promo2SinceYear            1115 non-null   float64\n",
      " 9   PromoInterval              1115 non-null   object \n",
      "dtypes: float64(5), int64(2), object(3)\n",
      "memory usage: 87.2+ KB\n",
      "<class 'pandas.core.frame.DataFrame'>\n",
      "RangeIndex: 41088 entries, 0 to 41087\n",
      "Data columns (total 8 columns):\n",
      " #   Column         Non-Null Count  Dtype  \n",
      "---  ------         --------------  -----  \n",
      " 0   Id             41088 non-null  int64  \n",
      " 1   Store          41088 non-null  int64  \n",
      " 2   DayOfWeek      41088 non-null  int64  \n",
      " 3   Date           41088 non-null  object \n",
      " 4   Open           41088 non-null  float64\n",
      " 5   Promo          41088 non-null  int64  \n",
      " 6   StateHoliday   41088 non-null  object \n",
      " 7   SchoolHoliday  41088 non-null  int64  \n",
      "dtypes: float64(1), int64(5), object(2)\n",
      "memory usage: 2.5+ MB\n"
     ]
    },
    {
     "output_type": "execute_result",
     "data": {
      "text/plain": [
       "(None, None)"
      ]
     },
     "metadata": {},
     "execution_count": 10
    }
   ],
   "metadata": {}
  },
  {
   "cell_type": "code",
   "execution_count": 11,
   "source": [
    "# To remove outliers we can use statistical methods like removing values that lie \n",
    "# outside our 2,3 or 4 sigma depending on the size of our data\n",
    "# We can also use ml sklearn localoutlierfactor library to calculate the distance\n",
    "# between data points to determine the one with the largest distance \n",
    "\n",
    "# lof = LocalOutlierFactor()\n",
    "# df_train = lof.fit_predict(df_train)"
   ],
   "outputs": [],
   "metadata": {}
  },
  {
   "cell_type": "markdown",
   "source": [],
   "metadata": {}
  },
  {
   "cell_type": "code",
   "execution_count": 12,
   "source": [
    "## Exploring customer behaviour\n",
    "\n",
    "#First check the columns found on training and test sets\n"
   ],
   "outputs": [],
   "metadata": {}
  },
  {
   "cell_type": "code",
   "execution_count": 13,
   "source": [
    "cleaned_test.columns, df_train.columns,df_store.columns"
   ],
   "outputs": [
    {
     "output_type": "execute_result",
     "data": {
      "text/plain": [
       "(Index(['Id', 'Store', 'DayOfWeek', 'Date', 'Open', 'Promo', 'StateHoliday',\n",
       "        'SchoolHoliday'],\n",
       "       dtype='object'),\n",
       " Index(['Store', 'DayOfWeek', 'Date', 'Sales', 'Customers', 'Open', 'Promo',\n",
       "        'StateHoliday', 'SchoolHoliday'],\n",
       "       dtype='object'),\n",
       " Index(['Store', 'StoreType', 'Assortment', 'CompetitionDistance',\n",
       "        'CompetitionOpenSinceMonth', 'CompetitionOpenSinceYear', 'Promo2',\n",
       "        'Promo2SinceWeek', 'Promo2SinceYear', 'PromoInterval'],\n",
       "       dtype='object'))"
      ]
     },
     "metadata": {},
     "execution_count": 13
    }
   ],
   "metadata": {}
  },
  {
   "cell_type": "code",
   "execution_count": 14,
   "source": [
    "# Check for distribution in both training and test sets - \n",
    "# are the promotions distributed similarly between these two groups?\n",
    "# df_train[\"Promo\"].head(3),df_train[\"Promo\"].head(3)\n",
    "df_train_stores = df_train.groupby(\"Store\")\n",
    "df_test_stores = df_test.groupby(\"Store\")\n",
    "# visualize.displot(df_train,x=\"Promo\",title = \"Promo distribution over Training set \")\n",
    "# visualize.displot(df_test,x=\"Promo\",title = \"Promo distribution over Test set \")\n",
    "# sn.displot(data=df_train,x=\"Promo\")\n",
    "# sn.displot(data=df_test,x=\"Promo\")\n",
    "# df_train_stores.head()\n"
   ],
   "outputs": [],
   "metadata": {}
  },
  {
   "cell_type": "code",
   "execution_count": 18,
   "source": [
    "# plotting Sale behaviour of stores during holiday and non-holiday days\n",
    "visualize.catplot(df_train,y=\"Sales\",x=\"StateHoliday\",kind=\"bar\",title=\"Sale Behaviours in the holiday\",hue=\"SchoolHoliday\",palette='Set2',xlabel=\"StateHoliday\",ylabel=\"Sales\",size=8)"
   ],
   "outputs": [
    {
     "output_type": "stream",
     "name": "stderr",
     "text": [
      "/home/dibora/Pharmaceutical-Sales-prediction-across-multiple-stores/pharmaceutical/lib/python3.7/site-packages/seaborn/categorical.py:3747: UserWarning: The `size` parameter has been renamed to `height`; please update your code.\n",
      "  warnings.warn(msg, UserWarning)\n"
     ]
    },
    {
     "output_type": "display_data",
     "data": {
      "text/plain": [
       "<Figure size 864x504 with 0 Axes>"
      ]
     },
     "metadata": {}
    },
    {
     "output_type": "display_data",
     "data": {
      "text/plain": [
       "<Figure size 654.625x576 with 1 Axes>"
      ],
      "image/png": "[encoded data removed]"
     },
     "metadata": {
      "needs_background": "light"
     }
    }
   ],
   "metadata": {}
  },
  {
   "cell_type": "code",
   "execution_count": 19,
   "source": [
    "# Check & compare sales behavior before, during and after holidays\n",
    "df_holidays = df_train.query('StateHoliday != \"0\"')\n",
    "# getting the dates for the holidays in the above dataframe\n",
    "df_holidays_dates = df_holidays.drop_duplicates('Date')\n",
    "\n",
    "df_holidays_dates\n"
   ],
   "outputs": [
    {
     "output_type": "execute_result",
     "data": {
      "text/plain": [
       "         Store  DayOfWeek       Date  Sales  Customers  Open  Promo  \\\n",
       "63555        1          4 2015-06-04      0          0     0      1   \n",
       "74705        1          1 2015-05-25      0          0     0      0   \n",
       "86970        1          4 2015-05-14      0          0     0      0   \n",
       "101465       1          5 2015-05-01      0          0     0      1   \n",
       "129340       1          1 2015-04-06      0          0     0      0   \n",
       "132685       1          5 2015-04-03      0          0     0      1   \n",
       "229702      13          2 2015-01-06      0          0     0      1   \n",
       "235265       1          4 2015-01-01      0          0     0      0   \n",
       "241055       1          5 2014-12-26      0          0     0      0   \n",
       "241990       1          4 2014-12-25      0          0     0      0   \n",
       "275654       5          3 2014-11-19      0          0     0      0   \n",
       "292482       3          6 2014-11-01      0          0     0      0   \n",
       "293416       2          5 2014-10-31      0          0     0      0   \n",
       "319595       1          5 2014-10-03      0          0     0      1   \n",
       "420685       1          4 2014-06-19      0          0     0      1   \n",
       "431835       1          1 2014-06-09      0          0     0      0   \n",
       "444100       1          4 2014-05-29      0          0     0      0   \n",
       "475320       1          4 2014-05-01      0          0     0      1   \n",
       "486470       1          1 2014-04-21      0          0     0      0   \n",
       "489815       1          5 2014-04-18      0          0     0      1   \n",
       "603557      13          1 2014-01-06      0          0     0      1   \n",
       "609120       1          3 2014-01-01      0          0     0      0   \n",
       "615810       1          4 2013-12-26      0          0     0      0   \n",
       "616925       1          3 2013-12-25      0          0     0      0   \n",
       "655954       5          3 2013-11-20      0          0     0      1   \n",
       "677137       3          5 2013-11-01      0          0     0      0   \n",
       "678251       2          4 2013-10-31      0          0     0      0   \n",
       "709470       1          4 2013-10-03      0          0     0      0   \n",
       "764117      13          4 2013-08-15      0          0     0      1   \n",
       "849960       1          4 2013-05-30      0          0     0      1   \n",
       "861110       1          1 2013-05-20      0          0     0      0   \n",
       "873375       1          4 2013-05-09      0          0     0      0   \n",
       "882295       1          3 2013-05-01      0          0     0      1   \n",
       "915745       1          1 2013-04-01      0          0     0      0   \n",
       "919090       1          5 2013-03-29      0          0     0      1   \n",
       "1010532     13          7 2013-01-06      0          0     0      0   \n",
       "1016095      1          2 2013-01-01      0          0     0      0   \n",
       "\n",
       "        StateHoliday  SchoolHoliday  \n",
       "63555              a              0  \n",
       "74705              a              0  \n",
       "86970              a              0  \n",
       "101465             a              0  \n",
       "129340             b              1  \n",
       "132685             b              1  \n",
       "229702             a              0  \n",
       "235265             a              1  \n",
       "241055             c              1  \n",
       "241990             c              1  \n",
       "275654             a              0  \n",
       "292482             a              0  \n",
       "293416             a              0  \n",
       "319595             a              0  \n",
       "420685             a              0  \n",
       "431835             a              0  \n",
       "444100             a              0  \n",
       "475320             a              0  \n",
       "486470             b              1  \n",
       "489815             b              1  \n",
       "603557             a              0  \n",
       "609120             a              1  \n",
       "615810             c              1  \n",
       "616925             c              1  \n",
       "655954             a              0  \n",
       "677137             a              1  \n",
       "678251             a              1  \n",
       "709470             a              0  \n",
       "764117             a              1  \n",
       "849960             a              0  \n",
       "861110             a              0  \n",
       "873375             a              0  \n",
       "882295             a              0  \n",
       "915745             b              1  \n",
       "919090             b              1  \n",
       "1010532            a              0  \n",
       "1016095            a              1  "
      ],
      "text/html": [
       "<div>\n",
       "<style scoped>\n",
       "    .dataframe tbody tr th:only-of-type {\n",
       "        vertical-align: middle;\n",
       "    }\n",
       "\n",
       "    .dataframe tbody tr th {\n",
       "        vertical-align: top;\n",
       "    }\n",
       "\n",
       "    .dataframe thead th {\n",
       "        text-align: right;\n",
       "    }\n",
       "</style>\n",
       "<table border=\"1\" class=\"dataframe\">\n",
       "  <thead>\n",
       "    <tr style=\"text-align: right;\">\n",
       "      <th></th>\n",
       "      <th>Store</th>\n",
       "      <th>DayOfWeek</th>\n",
       "      <th>Date</th>\n",
       "      <th>Sales</th>\n",
       "      <th>Customers</th>\n",
       "      <th>Open</th>\n",
       "      <th>Promo</th>\n",
       "      <th>StateHoliday</th>\n",
       "      <th>SchoolHoliday</th>\n",
       "    </tr>\n",
       "  </thead>\n",
       "  <tbody>\n",
       "    <tr>\n",
       "      <th>63555</th>\n",
       "      <td>1</td>\n",
       "      <td>4</td>\n",
       "      <td>2015-06-04</td>\n",
       "      <td>0</td>\n",
       "      <td>0</td>\n",
       "      <td>0</td>\n",
       "      <td>1</td>\n",
       "      <td>a</td>\n",
       "      <td>0</td>\n",
       "    </tr>\n",
       "    <tr>\n",
       "      <th>74705</th>\n",
       "      <td>1</td>\n",
       "      <td>1</td>\n",
       "      <td>2015-05-25</td>\n",
       "      <td>0</td>\n",
       "      <td>0</td>\n",
       "      <td>0</td>\n",
       "      <td>0</td>\n",
       "      <td>a</td>\n",
       "      <td>0</td>\n",
       "    </tr>\n",
       "    <tr>\n",
       "      <th>86970</th>\n",
       "      <td>1</td>\n",
       "      <td>4</td>\n",
       "      <td>2015-05-14</td>\n",
       "      <td>0</td>\n",
       "      <td>0</td>\n",
       "      <td>0</td>\n",
       "      <td>0</td>\n",
       "      <td>a</td>\n",
       "      <td>0</td>\n",
       "    </tr>\n",
       "    <tr>\n",
       "      <th>101465</th>\n",
       "      <td>1</td>\n",
       "      <td>5</td>\n",
       "      <td>2015-05-01</td>\n",
       "      <td>0</td>\n",
       "      <td>0</td>\n",
       "      <td>0</td>\n",
       "      <td>1</td>\n",
       "      <td>a</td>\n",
       "      <td>0</td>\n",
       "    </tr>\n",
       "    <tr>\n",
       "      <th>129340</th>\n",
       "      <td>1</td>\n",
       "      <td>1</td>\n",
       "      <td>2015-04-06</td>\n",
       "      <td>0</td>\n",
       "      <td>0</td>\n",
       "      <td>0</td>\n",
       "      <td>0</td>\n",
       "      <td>b</td>\n",
       "      <td>1</td>\n",
       "    </tr>\n",
       "    <tr>\n",
       "      <th>132685</th>\n",
       "      <td>1</td>\n",
       "      <td>5</td>\n",
       "      <td>2015-04-03</td>\n",
       "      <td>0</td>\n",
       "      <td>0</td>\n",
       "      <td>0</td>\n",
       "      <td>1</td>\n",
       "      <td>b</td>\n",
       "      <td>1</td>\n",
       "    </tr>\n",
       "    <tr>\n",
       "      <th>229702</th>\n",
       "      <td>13</td>\n",
       "      <td>2</td>\n",
       "      <td>2015-01-06</td>\n",
       "      <td>0</td>\n",
       "      <td>0</td>\n",
       "      <td>0</td>\n",
       "      <td>1</td>\n",
       "      <td>a</td>\n",
       "      <td>0</td>\n",
       "    </tr>\n",
       "    <tr>\n",
       "      <th>235265</th>\n",
       "      <td>1</td>\n",
       "      <td>4</td>\n",
       "      <td>2015-01-01</td>\n",
       "      <td>0</td>\n",
       "      <td>0</td>\n",
       "      <td>0</td>\n",
       "      <td>0</td>\n",
       "      <td>a</td>\n",
       "      <td>1</td>\n",
       "    </tr>\n",
       "    <tr>\n",
       "      <th>241055</th>\n",
       "      <td>1</td>\n",
       "      <td>5</td>\n",
       "      <td>2014-12-26</td>\n",
       "      <td>0</td>\n",
       "      <td>0</td>\n",
       "      <td>0</td>\n",
       "      <td>0</td>\n",
       "      <td>c</td>\n",
       "      <td>1</td>\n",
       "    </tr>\n",
       "    <tr>\n",
       "      <th>241990</th>\n",
       "      <td>1</td>\n",
       "      <td>4</td>\n",
       "      <td>2014-12-25</td>\n",
       "      <td>0</td>\n",
       "      <td>0</td>\n",
       "      <td>0</td>\n",
       "      <td>0</td>\n",
       "      <td>c</td>\n",
       "      <td>1</td>\n",
       "    </tr>\n",
       "    <tr>\n",
       "      <th>275654</th>\n",
       "      <td>5</td>\n",
       "      <td>3</td>\n",
       "      <td>2014-11-19</td>\n",
       "      <td>0</td>\n",
       "      <td>0</td>\n",
       "      <td>0</td>\n",
       "      <td>0</td>\n",
       "      <td>a</td>\n",
       "      <td>0</td>\n",
       "    </tr>\n",
       "    <tr>\n",
       "      <th>292482</th>\n",
       "      <td>3</td>\n",
       "      <td>6</td>\n",
       "      <td>2014-11-01</td>\n",
       "      <td>0</td>\n",
       "      <td>0</td>\n",
       "      <td>0</td>\n",
       "      <td>0</td>\n",
       "      <td>a</td>\n",
       "      <td>0</td>\n",
       "    </tr>\n",
       "    <tr>\n",
       "      <th>293416</th>\n",
       "      <td>2</td>\n",
       "      <td>5</td>\n",
       "      <td>2014-10-31</td>\n",
       "      <td>0</td>\n",
       "      <td>0</td>\n",
       "      <td>0</td>\n",
       "      <td>0</td>\n",
       "      <td>a</td>\n",
       "      <td>0</td>\n",
       "    </tr>\n",
       "    <tr>\n",
       "      <th>319595</th>\n",
       "      <td>1</td>\n",
       "      <td>5</td>\n",
       "      <td>2014-10-03</td>\n",
       "      <td>0</td>\n",
       "      <td>0</td>\n",
       "      <td>0</td>\n",
       "      <td>1</td>\n",
       "      <td>a</td>\n",
       "      <td>0</td>\n",
       "    </tr>\n",
       "    <tr>\n",
       "      <th>420685</th>\n",
       "      <td>1</td>\n",
       "      <td>4</td>\n",
       "      <td>2014-06-19</td>\n",
       "      <td>0</td>\n",
       "      <td>0</td>\n",
       "      <td>0</td>\n",
       "      <td>1</td>\n",
       "      <td>a</td>\n",
       "      <td>0</td>\n",
       "    </tr>\n",
       "    <tr>\n",
       "      <th>431835</th>\n",
       "      <td>1</td>\n",
       "      <td>1</td>\n",
       "      <td>2014-06-09</td>\n",
       "      <td>0</td>\n",
       "      <td>0</td>\n",
       "      <td>0</td>\n",
       "      <td>0</td>\n",
       "      <td>a</td>\n",
       "      <td>0</td>\n",
       "    </tr>\n",
       "    <tr>\n",
       "      <th>444100</th>\n",
       "      <td>1</td>\n",
       "      <td>4</td>\n",
       "      <td>2014-05-29</td>\n",
       "      <td>0</td>\n",
       "      <td>0</td>\n",
       "      <td>0</td>\n",
       "      <td>0</td>\n",
       "      <td>a</td>\n",
       "      <td>0</td>\n",
       "    </tr>\n",
       "    <tr>\n",
       "      <th>475320</th>\n",
       "      <td>1</td>\n",
       "      <td>4</td>\n",
       "      <td>2014-05-01</td>\n",
       "      <td>0</td>\n",
       "      <td>0</td>\n",
       "      <td>0</td>\n",
       "      <td>1</td>\n",
       "      <td>a</td>\n",
       "      <td>0</td>\n",
       "    </tr>\n",
       "    <tr>\n",
       "      <th>486470</th>\n",
       "      <td>1</td>\n",
       "      <td>1</td>\n",
       "      <td>2014-04-21</td>\n",
       "      <td>0</td>\n",
       "      <td>0</td>\n",
       "      <td>0</td>\n",
       "      <td>0</td>\n",
       "      <td>b</td>\n",
       "      <td>1</td>\n",
       "    </tr>\n",
       "    <tr>\n",
       "      <th>489815</th>\n",
       "      <td>1</td>\n",
       "      <td>5</td>\n",
       "      <td>2014-04-18</td>\n",
       "      <td>0</td>\n",
       "      <td>0</td>\n",
       "      <td>0</td>\n",
       "      <td>1</td>\n",
       "      <td>b</td>\n",
       "      <td>1</td>\n",
       "    </tr>\n",
       "    <tr>\n",
       "      <th>603557</th>\n",
       "      <td>13</td>\n",
       "      <td>1</td>\n",
       "      <td>2014-01-06</td>\n",
       "      <td>0</td>\n",
       "      <td>0</td>\n",
       "      <td>0</td>\n",
       "      <td>1</td>\n",
       "      <td>a</td>\n",
       "      <td>0</td>\n",
       "    </tr>\n",
       "    <tr>\n",
       "      <th>609120</th>\n",
       "      <td>1</td>\n",
       "      <td>3</td>\n",
       "      <td>2014-01-01</td>\n",
       "      <td>0</td>\n",
       "      <td>0</td>\n",
       "      <td>0</td>\n",
       "      <td>0</td>\n",
       "      <td>a</td>\n",
       "      <td>1</td>\n",
       "    </tr>\n",
       "    <tr>\n",
       "      <th>615810</th>\n",
       "      <td>1</td>\n",
       "      <td>4</td>\n",
       "      <td>2013-12-26</td>\n",
       "      <td>0</td>\n",
       "      <td>0</td>\n",
       "      <td>0</td>\n",
       "      <td>0</td>\n",
       "      <td>c</td>\n",
       "      <td>1</td>\n",
       "    </tr>\n",
       "    <tr>\n",
       "      <th>616925</th>\n",
       "      <td>1</td>\n",
       "      <td>3</td>\n",
       "      <td>2013-12-25</td>\n",
       "      <td>0</td>\n",
       "      <td>0</td>\n",
       "      <td>0</td>\n",
       "      <td>0</td>\n",
       "      <td>c</td>\n",
       "      <td>1</td>\n",
       "    </tr>\n",
       "    <tr>\n",
       "      <th>655954</th>\n",
       "      <td>5</td>\n",
       "      <td>3</td>\n",
       "      <td>2013-11-20</td>\n",
       "      <td>0</td>\n",
       "      <td>0</td>\n",
       "      <td>0</td>\n",
       "      <td>1</td>\n",
       "      <td>a</td>\n",
       "      <td>0</td>\n",
       "    </tr>\n",
       "    <tr>\n",
       "      <th>677137</th>\n",
       "      <td>3</td>\n",
       "      <td>5</td>\n",
       "      <td>2013-11-01</td>\n",
       "      <td>0</td>\n",
       "      <td>0</td>\n",
       "      <td>0</td>\n",
       "      <td>0</td>\n",
       "      <td>a</td>\n",
       "      <td>1</td>\n",
       "    </tr>\n",
       "    <tr>\n",
       "      <th>678251</th>\n",
       "      <td>2</td>\n",
       "      <td>4</td>\n",
       "      <td>2013-10-31</td>\n",
       "      <td>0</td>\n",
       "      <td>0</td>\n",
       "      <td>0</td>\n",
       "      <td>0</td>\n",
       "      <td>a</td>\n",
       "      <td>1</td>\n",
       "    </tr>\n",
       "    <tr>\n",
       "      <th>709470</th>\n",
       "      <td>1</td>\n",
       "      <td>4</td>\n",
       "      <td>2013-10-03</td>\n",
       "      <td>0</td>\n",
       "      <td>0</td>\n",
       "      <td>0</td>\n",
       "      <td>0</td>\n",
       "      <td>a</td>\n",
       "      <td>0</td>\n",
       "    </tr>\n",
       "    <tr>\n",
       "      <th>764117</th>\n",
       "      <td>13</td>\n",
       "      <td>4</td>\n",
       "      <td>2013-08-15</td>\n",
       "      <td>0</td>\n",
       "      <td>0</td>\n",
       "      <td>0</td>\n",
       "      <td>1</td>\n",
       "      <td>a</td>\n",
       "      <td>1</td>\n",
       "    </tr>\n",
       "    <tr>\n",
       "      <th>849960</th>\n",
       "      <td>1</td>\n",
       "      <td>4</td>\n",
       "      <td>2013-05-30</td>\n",
       "      <td>0</td>\n",
       "      <td>0</td>\n",
       "      <td>0</td>\n",
       "      <td>1</td>\n",
       "      <td>a</td>\n",
       "      <td>0</td>\n",
       "    </tr>\n",
       "    <tr>\n",
       "      <th>861110</th>\n",
       "      <td>1</td>\n",
       "      <td>1</td>\n",
       "      <td>2013-05-20</td>\n",
       "      <td>0</td>\n",
       "      <td>0</td>\n",
       "      <td>0</td>\n",
       "      <td>0</td>\n",
       "      <td>a</td>\n",
       "      <td>0</td>\n",
       "    </tr>\n",
       "    <tr>\n",
       "      <th>873375</th>\n",
       "      <td>1</td>\n",
       "      <td>4</td>\n",
       "      <td>2013-05-09</td>\n",
       "      <td>0</td>\n",
       "      <td>0</td>\n",
       "      <td>0</td>\n",
       "      <td>0</td>\n",
       "      <td>a</td>\n",
       "      <td>0</td>\n",
       "    </tr>\n",
       "    <tr>\n",
       "      <th>882295</th>\n",
       "      <td>1</td>\n",
       "      <td>3</td>\n",
       "      <td>2013-05-01</td>\n",
       "      <td>0</td>\n",
       "      <td>0</td>\n",
       "      <td>0</td>\n",
       "      <td>1</td>\n",
       "      <td>a</td>\n",
       "      <td>0</td>\n",
       "    </tr>\n",
       "    <tr>\n",
       "      <th>915745</th>\n",
       "      <td>1</td>\n",
       "      <td>1</td>\n",
       "      <td>2013-04-01</td>\n",
       "      <td>0</td>\n",
       "      <td>0</td>\n",
       "      <td>0</td>\n",
       "      <td>0</td>\n",
       "      <td>b</td>\n",
       "      <td>1</td>\n",
       "    </tr>\n",
       "    <tr>\n",
       "      <th>919090</th>\n",
       "      <td>1</td>\n",
       "      <td>5</td>\n",
       "      <td>2013-03-29</td>\n",
       "      <td>0</td>\n",
       "      <td>0</td>\n",
       "      <td>0</td>\n",
       "      <td>1</td>\n",
       "      <td>b</td>\n",
       "      <td>1</td>\n",
       "    </tr>\n",
       "    <tr>\n",
       "      <th>1010532</th>\n",
       "      <td>13</td>\n",
       "      <td>7</td>\n",
       "      <td>2013-01-06</td>\n",
       "      <td>0</td>\n",
       "      <td>0</td>\n",
       "      <td>0</td>\n",
       "      <td>0</td>\n",
       "      <td>a</td>\n",
       "      <td>0</td>\n",
       "    </tr>\n",
       "    <tr>\n",
       "      <th>1016095</th>\n",
       "      <td>1</td>\n",
       "      <td>2</td>\n",
       "      <td>2013-01-01</td>\n",
       "      <td>0</td>\n",
       "      <td>0</td>\n",
       "      <td>0</td>\n",
       "      <td>0</td>\n",
       "      <td>a</td>\n",
       "      <td>1</td>\n",
       "    </tr>\n",
       "  </tbody>\n",
       "</table>\n",
       "</div>"
      ]
     },
     "metadata": {},
     "execution_count": 19
    }
   ],
   "metadata": {}
  },
  {
   "cell_type": "markdown",
   "source": [
    "As we can see from our data Public Holidays don't usually stay for very long so we will analyze purchasing behaviours during,after and before chrismas and Easter. We will consider chrismas as December 26 and 25, we will analyze 5 days before Dec 25 and 5 days after Dec 26. Easter varies but stays 3 days so we will get the days for each year and analyze 5 days before and 5 days after those days for year in range(2013,2016)\n"
   ],
   "metadata": {}
  },
  {
   "cell_type": "code",
   "execution_count": 48,
   "source": [
    "# get the begining date of easter for each year\n",
    "easter_beginings = df_holidays_dates.query(\"StateHoliday == 'b' & DayOfWeek == 5\")['Date'].dt.date.tolist()\n",
    "\n",
    "# Add a column that states if a date is during, after or during a chrismas or easter holiday\n",
    "df_train_copy = df_train.copy()\n",
    "df_train_copy.loc[:,\"Holiday_season\"] = \"not_around_holiday\" \n",
    "\n",
    "for year in range(2013,2016):\n",
    "    chrismas_before_mask = (df_train_copy['Date'] > datetime.datetime(year,12,20)) & (df_train_copy['Date'] < datetime.datetime(year,12,25))\n",
    "    chrismas_after_mask = (df_train_copy['Date'] > datetime.datetime(year,12,26)) & (df_train_copy['Date'] < datetime.datetime(year,12,31))\n",
    "    chrismas_mask = (df_train_copy['Date'] == datetime.datetime(year,12,25)) | (df_train_copy['Date'] == datetime.datetime(year,12,26))\n",
    "    # for each year get 5 days before and after easter\n",
    "    for easter_date in easter_beginings:\n",
    "        easter_before_mask = (df_train_copy['Date'].dt.date > (easter_date -timedelta(days=5))) & (df_train_copy['Date'].dt.date < easter_date)\n",
    "        easter_after_mask = (df_train_copy['Date'].dt.date > easter_date+ timedelta(days=3)) & (df_train_copy['Date'].dt.date < easter_date+ timedelta(days=8))\n",
    "        easter_mask = (df_train_copy['Date'].dt.date >= easter_date) & (df_train_copy['Date'].dt.date <= easter_date+timedelta(days=3))\n",
    "        # add to the Holiday season col, the days around easter\n",
    "        df_train_copy.loc[easter_before_mask,\"Holiday_season\"] = \"before_easter\" \n",
    "        df_train_copy.loc[easter_after_mask,\"Holiday_season\"] = \"after_easter\" \n",
    "        df_train_copy.loc[easter_mask,\"Holiday_season\"] = \"during_easter\"\n",
    "    # add to the Holiday season col, the days around chrismas\n",
    "    df_train_copy.loc[chrismas_before_mask,\"Holiday_season\"] = \"before_chrismas\" \n",
    "    df_train_copy.loc[chrismas_after_mask,\"Holiday_season\"] = \"after_chrismas\" \n",
    "    df_train_copy.loc[chrismas_mask,\"Holiday_season\"] = \"during_chrismas\" \n",
    "\n",
    "df_train_copy.head()\n"
   ],
   "outputs": [
    {
     "output_type": "execute_result",
     "data": {
      "text/plain": [
       "   Store  DayOfWeek       Date  Sales  Customers  Open  Promo StateHoliday  \\\n",
       "0      1          5 2015-07-31   5263        555     1      1            0   \n",
       "1      2          5 2015-07-31   6064        625     1      1            0   \n",
       "2      3          5 2015-07-31   8314        821     1      1            0   \n",
       "3      4          5 2015-07-31  13995       1498     1      1            0   \n",
       "4      5          5 2015-07-31   4822        559     1      1            0   \n",
       "\n",
       "   SchoolHoliday      Holiday_season  \n",
       "0              1  not_around_holiday  \n",
       "1              1  not_around_holiday  \n",
       "2              1  not_around_holiday  \n",
       "3              1  not_around_holiday  \n",
       "4              1  not_around_holiday  "
      ],
      "text/html": [
       "<div>\n",
       "<style scoped>\n",
       "    .dataframe tbody tr th:only-of-type {\n",
       "        vertical-align: middle;\n",
       "    }\n",
       "\n",
       "    .dataframe tbody tr th {\n",
       "        vertical-align: top;\n",
       "    }\n",
       "\n",
       "    .dataframe thead th {\n",
       "        text-align: right;\n",
       "    }\n",
       "</style>\n",
       "<table border=\"1\" class=\"dataframe\">\n",
       "  <thead>\n",
       "    <tr style=\"text-align: right;\">\n",
       "      <th></th>\n",
       "      <th>Store</th>\n",
       "      <th>DayOfWeek</th>\n",
       "      <th>Date</th>\n",
       "      <th>Sales</th>\n",
       "      <th>Customers</th>\n",
       "      <th>Open</th>\n",
       "      <th>Promo</th>\n",
       "      <th>StateHoliday</th>\n",
       "      <th>SchoolHoliday</th>\n",
       "      <th>Holiday_season</th>\n",
       "    </tr>\n",
       "  </thead>\n",
       "  <tbody>\n",
       "    <tr>\n",
       "      <th>0</th>\n",
       "      <td>1</td>\n",
       "      <td>5</td>\n",
       "      <td>2015-07-31</td>\n",
       "      <td>5263</td>\n",
       "      <td>555</td>\n",
       "      <td>1</td>\n",
       "      <td>1</td>\n",
       "      <td>0</td>\n",
       "      <td>1</td>\n",
       "      <td>not_around_holiday</td>\n",
       "    </tr>\n",
       "    <tr>\n",
       "      <th>1</th>\n",
       "      <td>2</td>\n",
       "      <td>5</td>\n",
       "      <td>2015-07-31</td>\n",
       "      <td>6064</td>\n",
       "      <td>625</td>\n",
       "      <td>1</td>\n",
       "      <td>1</td>\n",
       "      <td>0</td>\n",
       "      <td>1</td>\n",
       "      <td>not_around_holiday</td>\n",
       "    </tr>\n",
       "    <tr>\n",
       "      <th>2</th>\n",
       "      <td>3</td>\n",
       "      <td>5</td>\n",
       "      <td>2015-07-31</td>\n",
       "      <td>8314</td>\n",
       "      <td>821</td>\n",
       "      <td>1</td>\n",
       "      <td>1</td>\n",
       "      <td>0</td>\n",
       "      <td>1</td>\n",
       "      <td>not_around_holiday</td>\n",
       "    </tr>\n",
       "    <tr>\n",
       "      <th>3</th>\n",
       "      <td>4</td>\n",
       "      <td>5</td>\n",
       "      <td>2015-07-31</td>\n",
       "      <td>13995</td>\n",
       "      <td>1498</td>\n",
       "      <td>1</td>\n",
       "      <td>1</td>\n",
       "      <td>0</td>\n",
       "      <td>1</td>\n",
       "      <td>not_around_holiday</td>\n",
       "    </tr>\n",
       "    <tr>\n",
       "      <th>4</th>\n",
       "      <td>5</td>\n",
       "      <td>5</td>\n",
       "      <td>2015-07-31</td>\n",
       "      <td>4822</td>\n",
       "      <td>559</td>\n",
       "      <td>1</td>\n",
       "      <td>1</td>\n",
       "      <td>0</td>\n",
       "      <td>1</td>\n",
       "      <td>not_around_holiday</td>\n",
       "    </tr>\n",
       "  </tbody>\n",
       "</table>\n",
       "</div>"
      ]
     },
     "metadata": {},
     "execution_count": 48
    }
   ],
   "metadata": {}
  },
  {
   "cell_type": "code",
   "execution_count": 33,
   "source": [
    "# visualizing sales around chrismas\n",
    "visualize.catplot(df_train_copy,y=\"Sales\",x=\"Holiday_season\",kind=\"box\",title=\"Sales around Chrismas holiday\",palette='Set3',xlabel=\"HolidaySeason\",ylabel=\"Sale\",size=8)"
   ],
   "outputs": [
    {
     "output_type": "stream",
     "name": "stderr",
     "text": [
      "/home/dibora/Pharmaceutical-Sales-prediction-across-multiple-stores/pharmaceutical/lib/python3.7/site-packages/seaborn/categorical.py:3747: UserWarning: The `size` parameter has been renamed to `height`; please update your code.\n",
      "  warnings.warn(msg, UserWarning)\n"
     ]
    },
    {
     "output_type": "display_data",
     "data": {
      "text/plain": [
       "<Figure size 864x504 with 0 Axes>"
      ]
     },
     "metadata": {}
    },
    {
     "output_type": "display_data",
     "data": {
      "text/plain": [
       "<Figure size 576x576 with 1 Axes>"
      ],
      "image/png": "[encoded data removed]"
     },
     "metadata": {
      "needs_background": "light"
     }
    }
   ],
   "metadata": {}
  },
  {
   "cell_type": "markdown",
   "source": [
    "### As we we are able to see from the plots, Purchasing behavior is the highest before chrismas than the other holiday season days, and the lowest during chrismas."
   ],
   "metadata": {}
  },
  {
   "cell_type": "code",
   "execution_count": 47,
   "source": [
    "# Get Total monthly sales \n",
    "monthly_total_sales = df_train_copy.groupby(pd.Grouper(key='Date', axis=0,freq='M')).sum()\n",
    "monthly_total_sales.head()"
   ],
   "outputs": [
    {
     "output_type": "execute_result",
     "data": {
      "text/plain": [
       "               Store  DayOfWeek      Sales  Customers   Open  Promo  \\\n",
       "Date                                                                  \n",
       "2013-01-31  19286282     134913  180132207   20380423  28869  11150   \n",
       "2013-02-28  17420760     124880  171534275   19244468  26683  11150   \n",
       "2013-03-31  19287270     144950  201180369   21969462  27892  16725   \n",
       "2013-04-30  18665100     128225  183431432   20882365  27880  13380   \n",
       "2013-05-31  19287270     138260  185411063   20723886  26202  14495   \n",
       "\n",
       "            SchoolHoliday  \n",
       "Date                       \n",
       "2013-01-31           5115  \n",
       "2013-02-28           2676  \n",
       "2013-03-31           5689  \n",
       "2013-04-30           5319  \n",
       "2013-05-31           3774  "
      ],
      "text/html": [
       "<div>\n",
       "<style scoped>\n",
       "    .dataframe tbody tr th:only-of-type {\n",
       "        vertical-align: middle;\n",
       "    }\n",
       "\n",
       "    .dataframe tbody tr th {\n",
       "        vertical-align: top;\n",
       "    }\n",
       "\n",
       "    .dataframe thead th {\n",
       "        text-align: right;\n",
       "    }\n",
       "</style>\n",
       "<table border=\"1\" class=\"dataframe\">\n",
       "  <thead>\n",
       "    <tr style=\"text-align: right;\">\n",
       "      <th></th>\n",
       "      <th>Store</th>\n",
       "      <th>DayOfWeek</th>\n",
       "      <th>Sales</th>\n",
       "      <th>Customers</th>\n",
       "      <th>Open</th>\n",
       "      <th>Promo</th>\n",
       "      <th>SchoolHoliday</th>\n",
       "    </tr>\n",
       "    <tr>\n",
       "      <th>Date</th>\n",
       "      <th></th>\n",
       "      <th></th>\n",
       "      <th></th>\n",
       "      <th></th>\n",
       "      <th></th>\n",
       "      <th></th>\n",
       "      <th></th>\n",
       "    </tr>\n",
       "  </thead>\n",
       "  <tbody>\n",
       "    <tr>\n",
       "      <th>2013-01-31</th>\n",
       "      <td>19286282</td>\n",
       "      <td>134913</td>\n",
       "      <td>180132207</td>\n",
       "      <td>20380423</td>\n",
       "      <td>28869</td>\n",
       "      <td>11150</td>\n",
       "      <td>5115</td>\n",
       "    </tr>\n",
       "    <tr>\n",
       "      <th>2013-02-28</th>\n",
       "      <td>17420760</td>\n",
       "      <td>124880</td>\n",
       "      <td>171534275</td>\n",
       "      <td>19244468</td>\n",
       "      <td>26683</td>\n",
       "      <td>11150</td>\n",
       "      <td>2676</td>\n",
       "    </tr>\n",
       "    <tr>\n",
       "      <th>2013-03-31</th>\n",
       "      <td>19287270</td>\n",
       "      <td>144950</td>\n",
       "      <td>201180369</td>\n",
       "      <td>21969462</td>\n",
       "      <td>27892</td>\n",
       "      <td>16725</td>\n",
       "      <td>5689</td>\n",
       "    </tr>\n",
       "    <tr>\n",
       "      <th>2013-04-30</th>\n",
       "      <td>18665100</td>\n",
       "      <td>128225</td>\n",
       "      <td>183431432</td>\n",
       "      <td>20882365</td>\n",
       "      <td>27880</td>\n",
       "      <td>13380</td>\n",
       "      <td>5319</td>\n",
       "    </tr>\n",
       "    <tr>\n",
       "      <th>2013-05-31</th>\n",
       "      <td>19287270</td>\n",
       "      <td>138260</td>\n",
       "      <td>185411063</td>\n",
       "      <td>20723886</td>\n",
       "      <td>26202</td>\n",
       "      <td>14495</td>\n",
       "      <td>3774</td>\n",
       "    </tr>\n",
       "  </tbody>\n",
       "</table>\n",
       "</div>"
      ]
     },
     "metadata": {},
     "execution_count": 47
    }
   ],
   "metadata": {}
  },
  {
   "cell_type": "code",
   "execution_count": 45,
   "source": [
    "visualize.lineplot(monthly_total_sales,x=\"Date\",y=\"Sales\",title=\"Monthly Sales\")"
   ],
   "outputs": [
    {
     "output_type": "display_data",
     "data": {
      "text/plain": [
       "<Figure size 864x504 with 1 Axes>"
      ],
      "image/png": "[encoded data removed]"
     },
     "metadata": {
      "needs_background": "light"
     }
    }
   ],
   "metadata": {}
  },
  {
   "cell_type": "code",
   "execution_count": 50,
   "source": [
    "# Find out any seasonal (Christmas, Easter etc) purchase behaviours,\n",
    "# We can anlyze the sales during holidays, customers, the type of stores favored during\n",
    "# the holidays,But for this we need to analyze additional store behavior, so lets join \n",
    "# the two dataframes\n",
    "df_train_joined = df_train.merge(df_store, on='Store')\n",
    "df_train_joined.head(5)\n"
   ],
   "outputs": [
    {
     "output_type": "execute_result",
     "data": {
      "text/plain": [
       "   Store  DayOfWeek       Date  Sales  Customers  Open  Promo StateHoliday  \\\n",
       "0      1          5 2015-07-31   5263        555     1      1            0   \n",
       "1      1          4 2015-07-30   5020        546     1      1            0   \n",
       "2      1          3 2015-07-29   4782        523     1      1            0   \n",
       "3      1          2 2015-07-28   5011        560     1      1            0   \n",
       "4      1          1 2015-07-27   6102        612     1      1            0   \n",
       "\n",
       "   SchoolHoliday StoreType Assortment  CompetitionDistance  \\\n",
       "0              1         c          a             1,270.00   \n",
       "1              1         c          a             1,270.00   \n",
       "2              1         c          a             1,270.00   \n",
       "3              1         c          a             1,270.00   \n",
       "4              1         c          a             1,270.00   \n",
       "\n",
       "   CompetitionOpenSinceMonth  CompetitionOpenSinceYear  Promo2  \\\n",
       "0                       9.00                  2,008.00       0   \n",
       "1                       9.00                  2,008.00       0   \n",
       "2                       9.00                  2,008.00       0   \n",
       "3                       9.00                  2,008.00       0   \n",
       "4                       9.00                  2,008.00       0   \n",
       "\n",
       "   Promo2SinceWeek  Promo2SinceYear    PromoInterval  \n",
       "0            22.00         2,012.00  Jan,Apr,Jul,Oct  \n",
       "1            22.00         2,012.00  Jan,Apr,Jul,Oct  \n",
       "2            22.00         2,012.00  Jan,Apr,Jul,Oct  \n",
       "3            22.00         2,012.00  Jan,Apr,Jul,Oct  \n",
       "4            22.00         2,012.00  Jan,Apr,Jul,Oct  "
      ],
      "text/html": [
       "<div>\n",
       "<style scoped>\n",
       "    .dataframe tbody tr th:only-of-type {\n",
       "        vertical-align: middle;\n",
       "    }\n",
       "\n",
       "    .dataframe tbody tr th {\n",
       "        vertical-align: top;\n",
       "    }\n",
       "\n",
       "    .dataframe thead th {\n",
       "        text-align: right;\n",
       "    }\n",
       "</style>\n",
       "<table border=\"1\" class=\"dataframe\">\n",
       "  <thead>\n",
       "    <tr style=\"text-align: right;\">\n",
       "      <th></th>\n",
       "      <th>Store</th>\n",
       "      <th>DayOfWeek</th>\n",
       "      <th>Date</th>\n",
       "      <th>Sales</th>\n",
       "      <th>Customers</th>\n",
       "      <th>Open</th>\n",
       "      <th>Promo</th>\n",
       "      <th>StateHoliday</th>\n",
       "      <th>SchoolHoliday</th>\n",
       "      <th>StoreType</th>\n",
       "      <th>Assortment</th>\n",
       "      <th>CompetitionDistance</th>\n",
       "      <th>CompetitionOpenSinceMonth</th>\n",
       "      <th>CompetitionOpenSinceYear</th>\n",
       "      <th>Promo2</th>\n",
       "      <th>Promo2SinceWeek</th>\n",
       "      <th>Promo2SinceYear</th>\n",
       "      <th>PromoInterval</th>\n",
       "    </tr>\n",
       "  </thead>\n",
       "  <tbody>\n",
       "    <tr>\n",
       "      <th>0</th>\n",
       "      <td>1</td>\n",
       "      <td>5</td>\n",
       "      <td>2015-07-31</td>\n",
       "      <td>5263</td>\n",
       "      <td>555</td>\n",
       "      <td>1</td>\n",
       "      <td>1</td>\n",
       "      <td>0</td>\n",
       "      <td>1</td>\n",
       "      <td>c</td>\n",
       "      <td>a</td>\n",
       "      <td>1,270.00</td>\n",
       "      <td>9.00</td>\n",
       "      <td>2,008.00</td>\n",
       "      <td>0</td>\n",
       "      <td>22.00</td>\n",
       "      <td>2,012.00</td>\n",
       "      <td>Jan,Apr,Jul,Oct</td>\n",
       "    </tr>\n",
       "    <tr>\n",
       "      <th>1</th>\n",
       "      <td>1</td>\n",
       "      <td>4</td>\n",
       "      <td>2015-07-30</td>\n",
       "      <td>5020</td>\n",
       "      <td>546</td>\n",
       "      <td>1</td>\n",
       "      <td>1</td>\n",
       "      <td>0</td>\n",
       "      <td>1</td>\n",
       "      <td>c</td>\n",
       "      <td>a</td>\n",
       "      <td>1,270.00</td>\n",
       "      <td>9.00</td>\n",
       "      <td>2,008.00</td>\n",
       "      <td>0</td>\n",
       "      <td>22.00</td>\n",
       "      <td>2,012.00</td>\n",
       "      <td>Jan,Apr,Jul,Oct</td>\n",
       "    </tr>\n",
       "    <tr>\n",
       "      <th>2</th>\n",
       "      <td>1</td>\n",
       "      <td>3</td>\n",
       "      <td>2015-07-29</td>\n",
       "      <td>4782</td>\n",
       "      <td>523</td>\n",
       "      <td>1</td>\n",
       "      <td>1</td>\n",
       "      <td>0</td>\n",
       "      <td>1</td>\n",
       "      <td>c</td>\n",
       "      <td>a</td>\n",
       "      <td>1,270.00</td>\n",
       "      <td>9.00</td>\n",
       "      <td>2,008.00</td>\n",
       "      <td>0</td>\n",
       "      <td>22.00</td>\n",
       "      <td>2,012.00</td>\n",
       "      <td>Jan,Apr,Jul,Oct</td>\n",
       "    </tr>\n",
       "    <tr>\n",
       "      <th>3</th>\n",
       "      <td>1</td>\n",
       "      <td>2</td>\n",
       "      <td>2015-07-28</td>\n",
       "      <td>5011</td>\n",
       "      <td>560</td>\n",
       "      <td>1</td>\n",
       "      <td>1</td>\n",
       "      <td>0</td>\n",
       "      <td>1</td>\n",
       "      <td>c</td>\n",
       "      <td>a</td>\n",
       "      <td>1,270.00</td>\n",
       "      <td>9.00</td>\n",
       "      <td>2,008.00</td>\n",
       "      <td>0</td>\n",
       "      <td>22.00</td>\n",
       "      <td>2,012.00</td>\n",
       "      <td>Jan,Apr,Jul,Oct</td>\n",
       "    </tr>\n",
       "    <tr>\n",
       "      <th>4</th>\n",
       "      <td>1</td>\n",
       "      <td>1</td>\n",
       "      <td>2015-07-27</td>\n",
       "      <td>6102</td>\n",
       "      <td>612</td>\n",
       "      <td>1</td>\n",
       "      <td>1</td>\n",
       "      <td>0</td>\n",
       "      <td>1</td>\n",
       "      <td>c</td>\n",
       "      <td>a</td>\n",
       "      <td>1,270.00</td>\n",
       "      <td>9.00</td>\n",
       "      <td>2,008.00</td>\n",
       "      <td>0</td>\n",
       "      <td>22.00</td>\n",
       "      <td>2,012.00</td>\n",
       "      <td>Jan,Apr,Jul,Oct</td>\n",
       "    </tr>\n",
       "  </tbody>\n",
       "</table>\n",
       "</div>"
      ]
     },
     "metadata": {},
     "execution_count": 50
    }
   ],
   "metadata": {}
  },
  {
   "cell_type": "code",
   "execution_count": 52,
   "source": [
    "visualize.scatterplot(df_train_joined,y=\"Sales\",x=\"StateHoliday\",hue=\"StoreType\",title=\"Sale Behaviours in the holiday and favored StoreTypes\")\n"
   ],
   "outputs": [
    {
     "output_type": "display_data",
     "data": {
      "text/plain": [
       "<Figure size 864x504 with 1 Axes>"
      ],
      "image/png": "[encoded data removed]"
     },
     "metadata": {
      "needs_background": "light"
     }
    }
   ],
   "metadata": {}
  },
  {
   "cell_type": "markdown",
   "source": [
    "<!-- a = public holiday, b = Easter holiday, c = Christmas, 0 = None -->\n",
    "#### The plots show that during Easter holiday and christmas store type b and a are preferred, During public holiday mostly just type b stores are preferred and on non-holiday days store types a and d are preferred.\n"
   ],
   "metadata": {}
  },
  {
   "cell_type": "markdown",
   "source": [
    "<!-- a = public holiday, b = Easter holiday, c = Christmas, 0 = None -->\n",
    "#### The plot shows during non holiday days the sales "
   ],
   "metadata": {}
  },
  {
   "cell_type": "code",
   "execution_count": 51,
   "source": [
    "# What can you say about the correlation between sales and number of customers?\n",
    "corr = df_train[['Customers','Sales']].corr()\n",
    "visualize.correlation_heatmap(corr)"
   ],
   "outputs": [
    {
     "output_type": "display_data",
     "data": {
      "text/plain": [
       "<Figure size 432x288 with 2 Axes>"
      ],
      "image/png": "[encoded data removed]"
     },
     "metadata": {
      "needs_background": "light"
     }
    }
   ],
   "metadata": {}
  },
  {
   "cell_type": "code",
   "execution_count": 52,
   "source": [
    "# or in other ways we can use the spearman correlation \n",
    "# If you are unsure of the distribution and possible relationships between two variables,\n",
    "#  Spearman correlation coefficient is a good tool to use.\n",
    "spearman_corr, _ = spearmanr(df_train['Customers'],df_train['Sales'])\n",
    "print('Spearmans correlation: %.3f' % spearman_corr)"
   ],
   "outputs": [
    {
     "output_type": "stream",
     "name": "stdout",
     "text": [
      "Spearmans correlation: 0.903\n"
     ]
    }
   ],
   "metadata": {}
  },
  {
   "cell_type": "markdown",
   "source": [
    "#### Which shows a high positive correlation between the two variables. Which means one increases the other increases aswell"
   ],
   "metadata": {}
  },
  {
   "cell_type": "code",
   "execution_count": 53,
   "source": [
    "# How does promo affect sales? Are the promos attracting more customers? How does it affect already existing customers?\n",
    "visualize.catplot(df_train_joined,y=\"Customers\",x=\"Promo\",kind=\"bar\",title=\"Customer counts vs Promo plot\",xlabel=\"Promo\",ylabel=\"Customer counts\")"
   ],
   "outputs": [
    {
     "output_type": "display_data",
     "data": {
      "text/plain": [
       "<Figure size 864x504 with 0 Axes>"
      ]
     },
     "metadata": {}
    },
    {
     "output_type": "display_data",
     "data": {
      "text/plain": [
       "<Figure size 360x360 with 1 Axes>"
      ],
      "image/png": "[encoded data removed]"
     },
     "metadata": {
      "needs_background": "light"
     }
    }
   ],
   "metadata": {}
  },
  {
   "cell_type": "code",
   "execution_count": 54,
   "source": [
    "# don't think it is enough, add more "
   ],
   "outputs": [],
   "metadata": {}
  },
  {
   "cell_type": "code",
   "execution_count": 55,
   "source": [
    "# Could the promos be deployed in more effective ways? Which stores should promos be deployed in?\n",
    "# what do we need to consider to say it needs to be deployed effectively? There are no columns that talk about\n",
    "# promo deployment\n",
    "visualize.catplot(df_train_joined,y=\"Customers\",x=\"Promo\",kind=\"bar\",title=\"Customer counts vs Promo plot\",xlabel=\"Promo\",ylabel=\"Customer counts\")"
   ],
   "outputs": [
    {
     "output_type": "display_data",
     "data": {
      "text/plain": [
       "<Figure size 864x504 with 0 Axes>"
      ]
     },
     "metadata": {}
    },
    {
     "output_type": "display_data",
     "data": {
      "text/plain": [
       "<Figure size 360x360 with 1 Axes>"
      ],
      "image/png": "[encoded data removed]"
     },
     "metadata": {
      "needs_background": "light"
     }
    }
   ],
   "metadata": {}
  },
  {
   "cell_type": "code",
   "execution_count": 56,
   "source": [
    "# Trends of customer behavior during store open and closing times\n",
    "# visualize.scatterplot(df_train_joined,y=\"Sales\",x=\"Customers\",hue=\"Open\",title=\"Purchasing behavior during open and closing times\")"
   ],
   "outputs": [],
   "metadata": {}
  },
  {
   "cell_type": "code",
   "execution_count": null,
   "source": [],
   "outputs": [],
   "metadata": {}
  },
  {
   "cell_type": "code",
   "execution_count": 1,
   "source": [
    "# Which stores are opened on all weekdays? How does that affect their sales on weekends? \n",
    "df_train.query(\"DayOfWeek == 6 | DayOfWeek == 7\")\n",
    "# visualize.catplot(df_train_joined,y=\"Sales\",x=\"Customers\",hue=\"Open\",title=\"Purchasing behavior during open and closing times\")"
   ],
   "outputs": [
    {
     "output_type": "error",
     "ename": "NameError",
     "evalue": "name 'df_train' is not defined",
     "traceback": [
      "\u001b[0;31m---------------------------------------------------------------------------\u001b[0m",
      "\u001b[0;31mNameError\u001b[0m                                 Traceback (most recent call last)",
      "\u001b[0;32m/tmp/ipykernel_286809/3143284920.py\u001b[0m in \u001b[0;36m<module>\u001b[0;34m\u001b[0m\n\u001b[1;32m      1\u001b[0m \u001b[0;31m# Which stores are opened on all weekdays? How does that affect their sales on weekends?\u001b[0m\u001b[0;34m\u001b[0m\u001b[0;34m\u001b[0m\u001b[0;34m\u001b[0m\u001b[0m\n\u001b[0;32m----> 2\u001b[0;31m \u001b[0mdf_train\u001b[0m\u001b[0;34m.\u001b[0m\u001b[0mquery\u001b[0m\u001b[0;34m(\u001b[0m\u001b[0;34m\"DayOfWeek == 6 | DayOfWeek == 7\"\u001b[0m\u001b[0;34m)\u001b[0m\u001b[0;34m\u001b[0m\u001b[0;34m\u001b[0m\u001b[0m\n\u001b[0m\u001b[1;32m      3\u001b[0m \u001b[0;31m# visualize.catplot(df_train_joined,y=\"Sales\",x=\"Customers\",hue=\"Open\",title=\"Purchasing behavior during open and closing times\")\u001b[0m\u001b[0;34m\u001b[0m\u001b[0;34m\u001b[0m\u001b[0;34m\u001b[0m\u001b[0m\n",
      "\u001b[0;31mNameError\u001b[0m: name 'df_train' is not defined"
     ]
    }
   ],
   "metadata": {}
  },
  {
   "cell_type": "code",
   "execution_count": null,
   "source": [],
   "outputs": [],
   "metadata": {}
  },
  {
   "cell_type": "code",
   "execution_count": 58,
   "source": [
    "# Check how the assortment type affects sales\n",
    "visualize.catplot(df_train_joined,y=\"Sales\",x=\"Assortment\",kind=\"box\",title=\"Sales with respect to Assortment types\")"
   ],
   "outputs": [
    {
     "output_type": "display_data",
     "data": {
      "text/plain": [
       "<Figure size 864x504 with 0 Axes>"
      ]
     },
     "metadata": {}
    },
    {
     "output_type": "display_data",
     "data": {
      "text/plain": [
       "<Figure size 360x360 with 1 Axes>"
      ],
      "image/png": "[encoded data removed]"
     },
     "metadata": {
      "needs_background": "light"
     }
    }
   ],
   "metadata": {}
  },
  {
   "cell_type": "code",
   "execution_count": 63,
   "source": [
    "# How does the distance to the next competitor affect sales? \n",
    "# What if the store and its competitors all happen to be in city centres, does the distance matter in that case?\n",
    "store_sales_df = pd.DataFrame({\"Total Sales\":df_train_joined.groupby(\"Store\")[\"Sales\"].sum()})\n",
    "grouped_stores = store_sales_df.merge(df_store, on='Store')\n",
    "visualize.lineplot(df = grouped_stores,x=\"CompetitionDistance\",y=\"Total Sales\",title=\"Distance to the next competitor and sales plot\")\n"
   ],
   "outputs": [
    {
     "output_type": "display_data",
     "data": {
      "text/plain": [
       "<Figure size 864x504 with 1 Axes>"
      ],
      "image/png": "[encoded data removed]"
     },
     "metadata": {
      "needs_background": "light"
     }
    }
   ],
   "metadata": {}
  },
  {
   "cell_type": "code",
   "execution_count": null,
   "source": [],
   "outputs": [],
   "metadata": {}
  },
  {
   "cell_type": "code",
   "execution_count": null,
   "source": [
    "# How does the opening or reopening of new competitors affect stores? Check for stores with NA as competitor distance but later on has values for competitor distance\n"
   ],
   "outputs": [],
   "metadata": {}
  },
  {
   "cell_type": "code",
   "execution_count": null,
   "source": [],
   "outputs": [],
   "metadata": {}
  }
 ],
 "metadata": {
  "orig_nbformat": 4,
  "language_info": {
   "name": "python",
   "version": "3.7.10",
   "mimetype": "text/x-python",
   "codemirror_mode": {
    "name": "ipython",
    "version": 3
   },
   "pygments_lexer": "ipython3",
   "nbconvert_exporter": "python",
   "file_extension": ".py"
  },
  "kernelspec": {
   "name": "python3",
   "display_name": "Python 3.7.10 64-bit ('pharmaceutical': venv)"
  },
  "interpreter": {
   "hash": "3111f4c5a366be439e2804dc4d42d279c7960b52b896a3ee11ceabeb285b6b48"
  }
 },
 "nbformat": 4,
 "nbformat_minor": 2
}